{
 "cells": [
  {
   "cell_type": "code",
   "execution_count": 3,
   "metadata": {},
   "outputs": [],
   "source": [
    "from DB_utils import *\n",
    "\n",
    "import pandas as pd\n",
    "import numpy as np\n",
    "import geopandas as gpd\n",
    "import json\n",
    "import matplotlib.pyplot as plt\n",
    "\n",
    "import shapely"
   ]
  },
  {
   "cell_type": "code",
   "execution_count": 29,
   "metadata": {},
   "outputs": [],
   "source": [
    "data_metro_street = pd.read_csv(\"data/crime_data/2025-02/2025-02-metropolitan-street.csv\")\n",
    "data_metro_outcomes = pd.read_csv(\"data/crime_data/2025-02/2025-02-metropolitan-outcomes.csv\")\n",
    "\n",
    "data_merseyside_stop_search = pd.read_csv(\"data/crime_data/2025-02/2025-02-merseyside-stop-and-search.csv\")"
   ]
  },
  {
   "cell_type": "code",
   "execution_count": 13,
   "metadata": {},
   "outputs": [],
   "source": [
    "data_metro_street[data_metro_street[\"LSOA code\"] == 'E02000976']"
   ]
  },
  {
   "cell_type": "code",
   "execution_count": 11,
   "metadata": {},
   "outputs": [],
   "source": [
    "data_metro_outcomes.head()\n"
   ]
  },
  {
   "cell_type": "code",
   "execution_count": 18,
   "metadata": {},
   "outputs": [],
   "source": [
    "data_metro_street['Crime ID'][0]"
   ]
  },
  {
   "cell_type": "code",
   "execution_count": 14,
   "metadata": {},
   "outputs": [],
   "source": [
    "len(data_metro_street[pd.notna(data_metro_street['Crime ID'])])"
   ]
  },
  {
   "cell_type": "code",
   "execution_count": 17,
   "metadata": {},
   "outputs": [],
   "source": [
    "data_merseyside_stop_search.head()"
   ]
  },
  {
   "cell_type": "code",
   "execution_count": 14,
   "metadata": {},
   "outputs": [],
   "source": [
    "import geopandas as gpd\n",
    "import matplotlib.pyplot as plt\n",
    "import os\n",
    "\n",
    "# Set the parent directory path where all borough folders/files are located\n",
    "parent_folder = r\"C:\\Users\\20223112\\Downloads\\LB_LSOA2021_shp\\LB_shp\"\n",
    "\n",
    "# Initialize an empty list to store GeoDataFrames\n",
    "gdfs = []\n",
    "\n",
    "# Loop through all files in the folder\n",
    "for file in os.listdir(parent_folder):\n",
    "    if file.endswith(\".shp\"):\n",
    "        filepath = os.path.join(parent_folder, file)\n",
    "        try:\n",
    "            gdf = gpd.read_file(filepath)\n",
    "            gdfs.append(gdf)\n",
    "        except Exception as e:\n",
    "            print(f\"Failed to load {file}: {e}\")\n",
    "\n",
    "# Combine all GeoDataFrames into one\n",
    "all_boroughs = gpd.GeoDataFrame(pd.concat(gdfs, ignore_index=True))\n",
    "\n",
    "# Plot\n",
    "fig, ax = plt.subplots(figsize=(12, 12))\n",
    "all_boroughs.plot(ax=ax, edgecolor=\"black\", column=None, cmap=\"Set3\")\n",
    "ax.set_title(\"London Borough Boundaries\", fontsize=16)\n",
    "ax.axis(\"off\")\n",
    "plt.show()\n"
   ]
  },
  {
   "cell_type": "code",
   "execution_count": 15,
   "metadata": {},
   "outputs": [],
   "source": [
    "gdf"
   ]
  },
  {
   "cell_type": "code",
   "execution_count": null,
   "metadata": {},
   "outputs": [],
   "source": [
    "def list_lsoa_data_files(parent_path: str= \"data/LB_shp/\") -> list[str]:\n",
    "    shp_files = []\n",
    "    for dirpath, dirnames, filenames in os.walk(parent_path):\n",
    "        for file in filenames:\n",
    "            if file.endswith(\".shp\"):\n",
    "                shp_files.append(os.path.join(dirpath, file))\n",
    "\n",
    "    return shp_files\n",
    "\n",
    "\n",
    "def combine_all_lsoa_data_files(list_of_shp_file_paths: list[str]) -> pd.DataFrame:\n",
    "    gdfs = []\n",
    "\n",
    "    for file_path in list_of_shp_file_paths:\n",
    "        gdfs.append(gpd.read_file(file_path))\n",
    "    \n",
    "    return gpd.GeoDataFrame(pd.concat(gdfs, ignore_index=True))"
   ]
  },
  {
   "cell_type": "code",
   "execution_count": 9,
   "metadata": {},
   "outputs": [],
   "source": [
    "from DB_utils import DBhandler\n",
    "import pandas\n",
    "\n",
    "db_handler = DBhandler(db_name=\"crime_data_UK_v2.db\")\n",
    "\n",
    "resulting_df = db_handler.query(\"SELECT name FROM sqlite_master WHERE type='table';\")\n",
    "\n",
    "db_handler.close_connection_db()"
   ]
  },
  {
   "cell_type": "code",
   "execution_count": 10,
   "metadata": {},
   "outputs": [],
   "source": [
    "resulting_df"
   ]
  },
  {
   "cell_type": "code",
   "execution_count": 13,
   "metadata": {},
   "outputs": [],
   "source": [
    "db_handler.open_connection_db()\n",
    "\n",
    "district_data = db_handler.query(\"SELECT * FROM force_districts\")\n",
    "crime_data = db_handler.query(\"SELECT * FROM crime LIMIT 100\")\n",
    "lsoa_loc_data = db_handler.query(\"SELECT * FROM lsoa_location\")\n",
    "\n",
    "tmp_df = db_handler.query(\"SELECT * FROM imd_data LIMIT 1000\")\n",
    "\n",
    "db_handler.close_connection_db()"
   ]
  },
  {
   "cell_type": "code",
   "execution_count": 14,
   "metadata": {},
   "outputs": [],
   "source": [
    "tmp_df.head()"
   ]
  },
  {
   "cell_type": "code",
   "execution_count": 88,
   "metadata": {},
   "outputs": [],
   "source": [
    "ward_loc = gpd.read_file(\"data/Wards_December_2016_Boundaries_UK_BFE_2022_-5810284385438997272\")\n",
    "ward_loc.head()"
   ]
  },
  {
   "cell_type": "code",
   "execution_count": 94,
   "metadata": {},
   "outputs": [],
   "source": [
    "temp = pd.read_csv(\"data/imd2019lsoa.csv\")"
   ]
  },
  {
   "cell_type": "code",
   "execution_count": 95,
   "metadata": {},
   "outputs": [],
   "source": [
    "temp.reset_index()"
   ]
  },
  {
   "cell_type": "code",
   "execution_count": 93,
   "metadata": {},
   "outputs": [],
   "source": [
    "temp[(temp[\"FeatureCode\"] == \"E01005278\") & (temp[\"Measurement\"] == \"Rank\")].sort_values(by=\"Indices of Deprivation\")"
   ]
  },
  {
   "cell_type": "code",
   "execution_count": 12,
   "metadata": {},
   "outputs": [],
   "source": [
    "import pandas as pd\n",
    "\n",
    "df = pd.read_csv(\"temp_results.csv\")\n",
    "df.head()"
   ]
  },
  {
   "cell_type": "code",
   "execution_count": 13,
   "metadata": {},
   "outputs": [],
   "source": [
    "df[pd.notna(df[\"ward_code\"])]"
   ]
  },
  {
   "cell_type": "code",
   "execution_count": 14,
   "metadata": {},
   "outputs": [],
   "source": [
    "df_grouped = df.groupby(by=\"ward_code\").agg(\n",
    "    imd_val=(\"value\", \"mean\"),\n",
    "    num_of_crimes=(\"crime_id\", \"count\")\n",
    ")\n",
    "\n",
    "df_grouped.head()"
   ]
  },
  {
   "cell_type": "code",
   "execution_count": 15,
   "metadata": {},
   "outputs": [],
   "source": [
    "correlation = df_grouped[\"imd_val\"].corr(df_grouped[\"num_of_crimes\"])\n",
    "print(correlation)"
   ]
  },
  {
   "cell_type": "code",
   "execution_count": 16,
   "metadata": {},
   "outputs": [],
   "source": [
    "len(df_grouped)"
   ]
  },
  {
   "cell_type": "code",
   "execution_count": null,
   "metadata": {},
   "outputs": [],
   "source": []
  }
 ],
 "metadata": {
  "kernelspec": {
   "display_name": "MultidisciplinaryCBL",
   "language": "python",
   "name": "python3"
  },
  "language_info": {
   "codemirror_mode": {
    "name": "ipython",
    "version": 3
   },
   "file_extension": ".py",
   "mimetype": "text/x-python",
   "name": "python",
   "nbconvert_exporter": "python",
   "pygments_lexer": "ipython3",
   "version": "3.11.11"
  }
 },
 "nbformat": 4,
 "nbformat_minor": 2
}
